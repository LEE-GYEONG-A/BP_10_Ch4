{
  "nbformat": 4,
  "nbformat_minor": 0,
  "metadata": {
    "colab": {
      "provenance": [],
      "authorship_tag": "ABX9TyOruvx/hms72pVUU8b6G8vc",
      "include_colab_link": true
    },
    "kernelspec": {
      "name": "python3",
      "display_name": "Python 3"
    },
    "language_info": {
      "name": "python"
    }
  },
  "cells": [
    {
      "cell_type": "markdown",
      "metadata": {
        "id": "view-in-github",
        "colab_type": "text"
      },
      "source": [
        "<a href=\"https://colab.research.google.com/github/LEE-GYEONG-A/BP_10_Ch4/blob/main/BP_10_Ch4.ipynb\" target=\"_parent\"><img src=\"https://colab.research.google.com/assets/colab-badge.svg\" alt=\"Open In Colab\"/></a>"
      ]
    },
    {
      "cell_type": "code",
      "execution_count": 2,
      "metadata": {
        "colab": {
          "base_uri": "https://localhost:8080/"
        },
        "id": "vbZzhMRQ8v07",
        "outputId": "ecc90e14-024f-49e0-ff2e-ad6f9f29682e"
      },
      "outputs": [
        {
          "output_type": "stream",
          "name": "stdout",
          "text": [
            "몇개의 사과를 먹었나요? :12\n",
            "나는 12 개의 사과를 먹었다.\n"
          ]
        }
      ],
      "source": [
        "#1번 문제\n",
        "apple = int(input(\"몇개의 사과를 먹었나요? :\"))\n",
        "print('나는', apple , '개의 사과를 먹었다.')"
      ]
    },
    {
      "cell_type": "code",
      "source": [
        "# 2번 문제\n",
        "print('apple' + 'grape')\n",
        "print('apple'*3)        #(문자열+문자열)하면 두 개의 문자열이 합쳐진다. (문자열*n)하면 문자열이 반복된다."
      ],
      "metadata": {
        "colab": {
          "base_uri": "https://localhost:8080/"
        },
        "id": "6X8f7kFj91lQ",
        "outputId": "53652e77-27bc-4e17-de81-12609cfa47ef"
      },
      "execution_count": 3,
      "outputs": [
        {
          "output_type": "stream",
          "name": "stdout",
          "text": [
            "applegrape\n",
            "appleappleapple\n"
          ]
        }
      ]
    },
    {
      "cell_type": "code",
      "source": [
        "#3번 문제\n",
        "word = input(\"문자열을 입력하시오.\")\n",
        "print((word[0:2]) + (word[-2:]))\n"
      ],
      "metadata": {
        "colab": {
          "base_uri": "https://localhost:8080/"
        },
        "id": "vHJcayMn-etG",
        "outputId": "853120b9-3059-4187-9f67-59850f04be5f"
      },
      "execution_count": 25,
      "outputs": [
        {
          "output_type": "stream",
          "name": "stdout",
          "text": [
            "문자열을 입력하시오.python\n",
            "py\n"
          ]
        }
      ]
    }
  ]
}